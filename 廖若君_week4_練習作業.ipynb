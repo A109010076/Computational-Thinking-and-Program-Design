{
  "nbformat": 4,
  "nbformat_minor": 0,
  "metadata": {
    "colab": {
      "name": "廖若君-week4-練習作業.ipynb",
      "provenance": [],
      "authorship_tag": "ABX9TyMoHUNlO1mjNxyoqLUyF/cT",
      "include_colab_link": true
    },
    "kernelspec": {
      "name": "python3",
      "display_name": "Python 3"
    }
  },
  "cells": [
    {
      "cell_type": "markdown",
      "metadata": {
        "id": "view-in-github",
        "colab_type": "text"
      },
      "source": [
        "<a href=\"https://colab.research.google.com/github/A109010076/Computational-Thinking-and-Program-Design/blob/main/%E5%BB%96%E8%8B%A5%E5%90%9B_week4_%E7%B7%B4%E7%BF%92%E4%BD%9C%E6%A5%AD.ipynb\" target=\"_parent\"><img src=\"https://colab.research.google.com/assets/colab-badge.svg\" alt=\"Open In Colab\"/></a>"
      ]
    },
    {
      "cell_type": "code",
      "metadata": {
        "id": "x5YYfL6RUTCN"
      },
      "source": [
        ""
      ],
      "execution_count": null,
      "outputs": []
    },
    {
      "cell_type": "markdown",
      "metadata": {
        "id": "x9JKlejcVJzc"
      },
      "source": [
        "#隨堂練習"
      ]
    },
    {
      "cell_type": "markdown",
      "metadata": {
        "id": "mntxGTKhW1Ca"
      },
      "source": [
        "adhcgsytfdysyfgstf"
      ]
    },
    {
      "cell_type": "markdown",
      "metadata": {
        "id": "c8d0b8F4U_Nh"
      },
      "source": [
        "#課後練習"
      ]
    },
    {
      "cell_type": "markdown",
      "metadata": {
        "id": "5TMZoUX8WLLm"
      },
      "source": [
        "https://www.gvm.com.tw/article/77911\r\n",
        "資訊日漸發達，現今以後所有的工作都將與資訊產業脫離不了關係，而文中也提及今後的資訊應用，都將走向以AI為主。人不能再以只會寫程式為自己的專長，這將不夠應付以後的工作需求了，也要結合更多「AI思維」或「運算思維」。所以身為媒體產業的新聞記者，這項與資訊脫離不了關係的工作，擁有運算思維的能力是必備的技能。\r\n"
      ]
    },
    {
      "cell_type": "code",
      "metadata": {
        "id": "4spldb5GfoLo"
      },
      "source": [
        ""
      ],
      "execution_count": null,
      "outputs": []
    }
  ]
}